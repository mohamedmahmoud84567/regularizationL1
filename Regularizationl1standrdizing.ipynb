{
 "cells": [
  {
   "cell_type": "code",
   "execution_count": 9,
   "id": "dcf870b0",
   "metadata": {},
   "outputs": [],
   "source": [
    "# Add import statements\n",
    "import numpy as np\n",
    "from sklearn.preprocessing import StandardScaler\n",
    "from sklearn.linear_model import LinearRegression\n",
    "from sklearn.linear_model import Lasso"
   ]
  },
  {
   "cell_type": "code",
   "execution_count": 5,
   "id": "ee366daf",
   "metadata": {},
   "outputs": [],
   "source": [
    "# Assign the data to predictor and outcome variables\n",
    "# Load the data\n",
    "data=np.loadtxt('datalasso.csv',delimiter=\",\")\n",
    "X=data[:,:-1]\n",
    "y=data[:,-1]\n"
   ]
  },
  {
   "cell_type": "code",
   "execution_count": 7,
   "id": "511c409a",
   "metadata": {},
   "outputs": [
    {
     "data": {
      "text/plain": [
       "array([-6.19918532e-03,  2.96325160e+00,  1.98199191e+00, -7.86249920e-02,\n",
       "       -3.95818772e+00,  9.30786141e+00])"
      ]
     },
     "execution_count": 7,
     "metadata": {},
     "output_type": "execute_result"
    }
   ],
   "source": [
    "# Create the linear regression model.\n",
    "linear_reg=LinearRegression()\n",
    "# Fit the model with trainig data\n",
    "linear_reg.fit(X,y)\n",
    "# Retrieve and print out the coefficients \n",
    "linear_reg.coef_"
   ]
  },
  {
   "cell_type": "code",
   "execution_count": 8,
   "id": "95db42ef",
   "metadata": {},
   "outputs": [
    {
     "data": {
      "text/plain": [
       "array([ 0.        ,  2.35793224,  2.00441646, -0.05511954, -3.92808318,\n",
       "        0.        ])"
      ]
     },
     "execution_count": 8,
     "metadata": {},
     "output_type": "execute_result"
    }
   ],
   "source": [
    "# Create the linear regression model with lasso regularization.\n",
    "lasso_reg=Lasso()\n",
    "# Fit the model with trainig data\n",
    "lasso_reg.fit(X,y)\n",
    "# Retrieve and print out the coefficients\n",
    "lasso_reg.coef_"
   ]
  },
  {
   "cell_type": "code",
   "execution_count": 11,
   "id": "4a1ec613",
   "metadata": {},
   "outputs": [
    {
     "data": {
      "text/plain": [
       "array([  0.        ,   3.90753617,   9.02575748,  -0.        ,\n",
       "       -11.78303187,   0.45340137])"
      ]
     },
     "execution_count": 11,
     "metadata": {},
     "output_type": "execute_result"
    }
   ],
   "source": [
    "# Create the standardization scaling object.\n",
    "scaler=StandardScaler()\n",
    "# Fit the standardization parameters and scale the data.\n",
    "X_scaled=scaler.fit_transform(X)\n",
    "# Fit the model.\n",
    "lasso_reg.fit(X_scaled,y)\n",
    "lasso_reg.coef_"
   ]
  },
  {
   "cell_type": "code",
   "execution_count": null,
   "id": "38440009",
   "metadata": {},
   "outputs": [],
   "source": []
  }
 ],
 "metadata": {
  "kernelspec": {
   "display_name": "Python 3 (ipykernel)",
   "language": "python",
   "name": "python3"
  },
  "language_info": {
   "codemirror_mode": {
    "name": "ipython",
    "version": 3
   },
   "file_extension": ".py",
   "mimetype": "text/x-python",
   "name": "python",
   "nbconvert_exporter": "python",
   "pygments_lexer": "ipython3",
   "version": "3.9.7"
  }
 },
 "nbformat": 4,
 "nbformat_minor": 5
}
